{
 "cells": [
  {
   "attachments": {
    "image.png": {
     "image/png": "[encoded data removed]"
    }
   },
   "cell_type": "markdown",
   "id": "b547b7cf",
   "metadata": {},
   "source": [
    "![image.png](attachment:image.png)"
   ]
  },
  {
   "cell_type": "code",
   "execution_count": 1,
   "id": "5bff3fe8",
   "metadata": {},
   "outputs": [],
   "source": [
    "import sympy as sym"
   ]
  },
  {
   "cell_type": "code",
   "execution_count": 5,
   "id": "4eab9075",
   "metadata": {},
   "outputs": [],
   "source": [
    "x = sym.symbols('x')\n",
    "\n",
    "P, E, I, L = sym.symbols('P, E, I, L')"
   ]
  },
  {
   "cell_type": "code",
   "execution_count": 6,
   "id": "29362936",
   "metadata": {},
   "outputs": [],
   "source": [
    "v = sym.Function('v')"
   ]
  },
  {
   "cell_type": "code",
   "execution_count": 7,
   "id": "e55de0ee",
   "metadata": {},
   "outputs": [],
   "source": [
    "M = -P*(L-x)"
   ]
  },
  {
   "cell_type": "code",
   "execution_count": 8,
   "id": "c982dc71",
   "metadata": {},
   "outputs": [
    {
     "data": {
      "text/latex": [
       "$\\displaystyle \\frac{d^{2}}{d x^{2}} v{\\left(x \\right)} = - \\frac{P \\left(L - x\\right)}{E I}$"
      ],
      "text/plain": [
       "Eq(Derivative(v(x), (x, 2)), -P*(L - x)/(E*I))"
      ]
     },
     "metadata": {},
     "output_type": "display_data"
    }
   ],
   "source": [
    "eq = sym.Eq(sym.diff(v(x),(x,2)), M/(E*I))\n",
    "display(eq)"
   ]
  },
  {
   "cell_type": "code",
   "execution_count": 9,
   "id": "fc4d64dc",
   "metadata": {},
   "outputs": [
    {
     "ename": "TypeError",
     "evalue": "unsupported operand type(s) for |: 'dict' and 'dict'",
     "output_type": "error",
     "traceback": [
      "\u001b[0;31m---------------------------------------------------------------------------\u001b[0m",
      "\u001b[0;31mTypeError\u001b[0m                                 Traceback (most recent call last)",
      "\u001b[0;32m/tmp/ipykernel_203147/817133430.py\u001b[0m in \u001b[0;36m<module>\u001b[0;34m\u001b[0m\n\u001b[1;32m      3\u001b[0m \u001b[0mbc2\u001b[0m \u001b[0;34m=\u001b[0m \u001b[0;34m{\u001b[0m\u001b[0msym\u001b[0m\u001b[0;34m.\u001b[0m\u001b[0mdiff\u001b[0m\u001b[0;34m(\u001b[0m\u001b[0mv\u001b[0m\u001b[0;34m(\u001b[0m\u001b[0mx\u001b[0m\u001b[0;34m)\u001b[0m\u001b[0;34m,\u001b[0m\u001b[0mx\u001b[0m\u001b[0;34m)\u001b[0m\u001b[0;34m.\u001b[0m\u001b[0msubs\u001b[0m\u001b[0;34m(\u001b[0m\u001b[0mx\u001b[0m\u001b[0;34m,\u001b[0m\u001b[0;36m0\u001b[0m\u001b[0;34m)\u001b[0m\u001b[0;34m:\u001b[0m \u001b[0;36m0\u001b[0m\u001b[0;34m}\u001b[0m\u001b[0;34m\u001b[0m\u001b[0;34m\u001b[0m\u001b[0m\n\u001b[1;32m      4\u001b[0m \u001b[0;34m\u001b[0m\u001b[0m\n\u001b[0;32m----> 5\u001b[0;31m \u001b[0mbc_list\u001b[0m \u001b[0;34m=\u001b[0m \u001b[0mbc1\u001b[0m \u001b[0;34m|\u001b[0m \u001b[0mbc2\u001b[0m\u001b[0;34m\u001b[0m\u001b[0;34m\u001b[0m\u001b[0m\n\u001b[0m\u001b[1;32m      6\u001b[0m \u001b[0mdisplay\u001b[0m\u001b[0;34m(\u001b[0m\u001b[0mbc_list\u001b[0m\u001b[0;34m)\u001b[0m\u001b[0;34m\u001b[0m\u001b[0;34m\u001b[0m\u001b[0m\n",
      "\u001b[0;31mTypeError\u001b[0m: unsupported operand type(s) for |: 'dict' and 'dict'"
     ]
    }
   ],
   "source": [
    "bc1 = {v(0): 0}\n",
    "\n",
    "bc2 = {sym.diff(v(x),x).subs(x,0): 0}\n",
    "\n",
    "bc_list = bc1 | bc2\n",
    "display(bc_list)"
   ]
  },
  {
   "cell_type": "code",
   "execution_count": null,
   "id": "6ee16b9e",
   "metadata": {},
   "outputs": [],
   "source": [
    "diff_eq_soln = sym.dsolve(eq, v(x), ics=bc_list)\n",
    "diff_eq_soln.simplify()"
   ]
  },
  {
   "cell_type": "code",
   "execution_count": null,
   "id": "75ff2b5d",
   "metadata": {},
   "outputs": [],
   "source": []
  }
 ],
 "metadata": {
  "kernelspec": {
   "display_name": "Python 3 (ipykernel)",
   "language": "python",
   "name": "python3"
  },
  "language_info": {
   "codemirror_mode": {
    "name": "ipython",
    "version": 3
   },
   "file_extension": ".py",
   "mimetype": "text/x-python",
   "name": "python",
   "nbconvert_exporter": "python",
   "pygments_lexer": "ipython3",
   "version": "3.8.12"
  }
 },
 "nbformat": 4,
 "nbformat_minor": 5
}
