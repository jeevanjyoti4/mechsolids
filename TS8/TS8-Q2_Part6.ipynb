{
 "cells": [
  {
   "attachments": {
    "image.png": {
     "image/png": "[encoded data removed]"
    }
   },
   "cell_type": "markdown",
   "id": "62d7c9cf",
   "metadata": {},
   "source": [
    "![image.png](attachment:image.png)"
   ]
  },
  {
   "cell_type": "code",
   "execution_count": 1,
   "id": "2ebc3ac7",
   "metadata": {},
   "outputs": [],
   "source": [
    "import sympy as sym"
   ]
  },
  {
   "cell_type": "code",
   "execution_count": 5,
   "id": "417dab6e",
   "metadata": {},
   "outputs": [],
   "source": [
    "x = sym.symbols('x')\n",
    "\n",
    "w0, E, I, L = sym.symbols('w_0, E, I, L')"
   ]
  },
  {
   "cell_type": "code",
   "execution_count": 6,
   "id": "c5341072",
   "metadata": {},
   "outputs": [],
   "source": [
    "w = w0*(L-x)/L"
   ]
  },
  {
   "cell_type": "code",
   "execution_count": 3,
   "id": "5c4dbfa4",
   "metadata": {},
   "outputs": [],
   "source": [
    "v = sym.Function('v')"
   ]
  },
  {
   "cell_type": "code",
   "execution_count": 7,
   "id": "2428cbe9",
   "metadata": {},
   "outputs": [
    {
     "data": {
      "text/latex": [
       "$\\displaystyle E I \\frac{d^{4}}{d x^{4}} v{\\left(x \\right)} = - \\frac{w_{0} \\left(L - x\\right)}{L}$"
      ],
      "text/plain": [
       "Eq(E*I*Derivative(v(x), (x, 4)), -w_0*(L - x)/L)"
      ]
     },
     "metadata": {},
     "output_type": "display_data"
    }
   ],
   "source": [
    "eq = sym.Eq(E*I*sym.diff(v(x),(x,4)), -w)\n",
    "display(eq)"
   ]
  },
  {
   "cell_type": "code",
   "execution_count": 8,
   "id": "390f55ee",
   "metadata": {},
   "outputs": [
    {
     "data": {
      "text/plain": [
       "{v(0): 0,\n",
       " Subs(Derivative(v(x), x), x, 0): 0,\n",
       " Derivative(v(L), (L, 3)): 0,\n",
       " Derivative(v(L), (L, 2)): 0}"
      ]
     },
     "metadata": {},
     "output_type": "display_data"
    }
   ],
   "source": [
    "bc1 = {v(0): 0}\n",
    "\n",
    "bc2 = {sym.diff(v(x),x).subs(x,0): 0}\n",
    "\n",
    "bc3 = {sym.diff(v(x),(x,3)).subs(x,L): 0}\n",
    "\n",
    "bc4 = {sym.diff(v(x),(x,2)).subs(x,L): 0}\n",
    "\n",
    "bc_list = bc1 | bc2 | bc3 | bc4\n",
    "display(bc_list)"
   ]
  },
  {
   "cell_type": "code",
   "execution_count": 14,
   "id": "1e3bbe7d",
   "metadata": {},
   "outputs": [
    {
     "data": {
      "text/latex": [
       "$\\displaystyle v{\\left(x \\right)} = \\frac{w_{0} x^{2} \\cdot \\left(5 L \\left(- 2 L^{2} + 2 L x - x^{2}\\right) + x^{3}\\right)}{120 E I L}$"
      ],
      "text/plain": [
       "Eq(v(x), w_0*x**2*(5*L*(-2*L**2 + 2*L*x - x**2) + x**3)/(120*E*I*L))"
      ]
     },
     "execution_count": 14,
     "metadata": {},
     "output_type": "execute_result"
    }
   ],
   "source": [
    "diff_eq_soln = sym.dsolve(eq, v(x), ics=bc_list)\n",
    "diff_eq_soln.simplify()"
   ]
  },
  {
   "cell_type": "markdown",
   "id": "39eb063e",
   "metadata": {},
   "source": [
    "## Alternative solution:"
   ]
  },
  {
   "cell_type": "code",
   "execution_count": 15,
   "id": "a0aeb98d",
   "metadata": {},
   "outputs": [],
   "source": [
    "M = -w0*(L-x)/L*(L-x)**2/6"
   ]
  },
  {
   "cell_type": "code",
   "execution_count": 16,
   "id": "9aa1c663",
   "metadata": {},
   "outputs": [
    {
     "data": {
      "text/latex": [
       "$\\displaystyle E I \\frac{d^{2}}{d x^{2}} v{\\left(x \\right)} = - \\frac{w_{0} \\left(L - x\\right)^{3}}{6 L}$"
      ],
      "text/plain": [
       "Eq(E*I*Derivative(v(x), (x, 2)), -w_0*(L - x)**3/(6*L))"
      ]
     },
     "metadata": {},
     "output_type": "display_data"
    }
   ],
   "source": [
    "eq = sym.Eq(E*I*sym.diff(v(x),(x,2)), M)\n",
    "display(eq)"
   ]
  },
  {
   "cell_type": "code",
   "execution_count": 17,
   "id": "9ccd430f",
   "metadata": {},
   "outputs": [
    {
     "data": {
      "text/plain": [
       "{v(0): 0, Subs(Derivative(v(x), x), x, 0): 0}"
      ]
     },
     "metadata": {},
     "output_type": "display_data"
    }
   ],
   "source": [
    "bc1 = {v(0): 0}\n",
    "\n",
    "bc2 = {sym.diff(v(x),x).subs(x,0): 0}\n",
    "\n",
    "bc_list = bc1 | bc2\n",
    "display(bc_list)"
   ]
  },
  {
   "cell_type": "code",
   "execution_count": 18,
   "id": "604dc4eb",
   "metadata": {},
   "outputs": [
    {
     "data": {
      "text/latex": [
       "$\\displaystyle v{\\left(x \\right)} = \\frac{w_{0} x^{2} \\cdot \\left(5 L \\left(- 2 L^{2} + 2 L x - x^{2}\\right) + x^{3}\\right)}{120 E I L}$"
      ],
      "text/plain": [
       "Eq(v(x), w_0*x**2*(5*L*(-2*L**2 + 2*L*x - x**2) + x**3)/(120*E*I*L))"
      ]
     },
     "execution_count": 18,
     "metadata": {},
     "output_type": "execute_result"
    }
   ],
   "source": [
    "diff_eq_soln = sym.dsolve(eq, v(x), ics=bc_list)\n",
    "diff_eq_soln.simplify()"
   ]
  },
  {
   "cell_type": "code",
   "execution_count": null,
   "id": "552bfcf7",
   "metadata": {},
   "outputs": [],
   "source": []
  }
 ],
 "metadata": {
  "kernelspec": {
   "display_name": "Python 3 (ipykernel)",
   "language": "python",
   "name": "python3"
  },
  "language_info": {
   "codemirror_mode": {
    "name": "ipython",
    "version": 3
   },
   "file_extension": ".py",
   "mimetype": "text/x-python",
   "name": "python",
   "nbconvert_exporter": "python",
   "pygments_lexer": "ipython3",
   "version": "3.9.7"
  }
 },
 "nbformat": 4,
 "nbformat_minor": 5
}
