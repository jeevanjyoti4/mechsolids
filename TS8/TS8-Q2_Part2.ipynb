{
 "cells": [
  {
   "attachments": {
    "image.png": {
     "image/png": "[encoded data removed]"
    }
   },
   "cell_type": "markdown",
   "id": "4d607ab5",
   "metadata": {},
   "source": [
    "![image.png](attachment:image.png)"
   ]
  },
  {
   "cell_type": "code",
   "execution_count": 1,
   "id": "6c76b5cf",
   "metadata": {},
   "outputs": [],
   "source": [
    "import sympy as sym"
   ]
  },
  {
   "cell_type": "code",
   "execution_count": 5,
   "id": "44dd0b8a",
   "metadata": {},
   "outputs": [],
   "source": [
    "x = sym.symbols('x')\n",
    "\n",
    "P, E, I, L = sym.symbols('P, E, I, L')"
   ]
  },
  {
   "cell_type": "code",
   "execution_count": 6,
   "id": "b5a8923c",
   "metadata": {},
   "outputs": [],
   "source": [
    "v1 = sym.Function('v_1')"
   ]
  },
  {
   "cell_type": "code",
   "execution_count": 28,
   "id": "92cb4a9a",
   "metadata": {},
   "outputs": [],
   "source": [
    "M1 = -P*(L - x - L/2)"
   ]
  },
  {
   "cell_type": "code",
   "execution_count": 29,
   "id": "2162781c",
   "metadata": {},
   "outputs": [
    {
     "data": {
      "text/latex": [
       "$\\displaystyle \\frac{d^{2}}{d x^{2}} v_{1}{\\left(x \\right)} = - \\frac{P \\left(\\frac{L}{2} - x\\right)}{E I}$"
      ],
      "text/plain": [
       "Eq(Derivative(v_1(x), (x, 2)), -P*(L/2 - x)/(E*I))"
      ]
     },
     "metadata": {},
     "output_type": "display_data"
    }
   ],
   "source": [
    "eq1 = sym.Eq(sym.diff(v1(x),(x,2)), M1/(E*I))\n",
    "display(eq1)"
   ]
  },
  {
   "cell_type": "code",
   "execution_count": 30,
   "id": "86f352e8",
   "metadata": {},
   "outputs": [
    {
     "data": {
      "text/plain": [
       "{v_1(0): 0, Subs(Derivative(v_1(x), x), x, 0): 0}"
      ]
     },
     "metadata": {},
     "output_type": "display_data"
    }
   ],
   "source": [
    "bc11 = {v1(0): 0}\n",
    "\n",
    "bc12 = {sym.diff(v1(x),x).subs(x,0): 0}\n",
    "\n",
    "bc_list1 = bc11 | bc12\n",
    "display(bc_list1)"
   ]
  },
  {
   "cell_type": "code",
   "execution_count": 31,
   "id": "03c9c623",
   "metadata": {},
   "outputs": [
    {
     "data": {
      "text/latex": [
       "$\\displaystyle v_{1}{\\left(x \\right)} = \\frac{P x^{2} \\left(- 3 L + 2 x\\right)}{12 E I}$"
      ],
      "text/plain": [
       "Eq(v_1(x), P*x**2*(-3*L + 2*x)/(12*E*I))"
      ]
     },
     "execution_count": 31,
     "metadata": {},
     "output_type": "execute_result"
    }
   ],
   "source": [
    "diff_eq1_soln = sym.dsolve(eq1, v1(x), ics=bc_list1)\n",
    "diff_eq1_soln.simplify()"
   ]
  },
  {
   "cell_type": "code",
   "execution_count": 32,
   "id": "cd702739",
   "metadata": {},
   "outputs": [
    {
     "data": {
      "text/latex": [
       "$\\displaystyle - \\frac{L P x^{2}}{4 E I} + \\frac{P x^{3}}{6 E I}$"
      ],
      "text/plain": [
       "-L*P*x**2/(4*E*I) + P*x**3/(6*E*I)"
      ]
     },
     "metadata": {},
     "output_type": "display_data"
    }
   ],
   "source": [
    "v1_soln = diff_eq1_soln.rhs\n",
    "display(v1_soln)"
   ]
  },
  {
   "cell_type": "code",
   "execution_count": 33,
   "id": "78440797",
   "metadata": {},
   "outputs": [],
   "source": [
    "v2 = sym.Function('v_2')"
   ]
  },
  {
   "cell_type": "code",
   "execution_count": 34,
   "id": "9a9c6d4d",
   "metadata": {},
   "outputs": [],
   "source": [
    "M2 = 0"
   ]
  },
  {
   "cell_type": "code",
   "execution_count": 35,
   "id": "67070822",
   "metadata": {},
   "outputs": [
    {
     "data": {
      "text/latex": [
       "$\\displaystyle \\frac{d^{2}}{d x^{2}} v_{2}{\\left(x \\right)} = 0$"
      ],
      "text/plain": [
       "Eq(Derivative(v_2(x), (x, 2)), 0)"
      ]
     },
     "metadata": {},
     "output_type": "display_data"
    }
   ],
   "source": [
    "eq2 = sym.Eq(sym.diff(v2(x),(x,2)), M2/(E*I))\n",
    "display(eq2)"
   ]
  },
  {
   "cell_type": "code",
   "execution_count": 36,
   "id": "d1779209",
   "metadata": {},
   "outputs": [
    {
     "data": {
      "text/plain": [
       "{v_2(L/2): -L**3*P/(24*E*I),\n",
       " Subs(Derivative(v_2(x), x), x, L/2): -L**2*P/(8*E*I)}"
      ]
     },
     "metadata": {},
     "output_type": "display_data"
    }
   ],
   "source": [
    "bc21 = {v2(L/2): v1_soln.subs(x,L/2)}\n",
    "\n",
    "bc22 = {sym.diff(v2(x),x).subs(x,L/2): sym.diff(v1_soln,x).subs(x,L/2)}\n",
    "\n",
    "bc_list2 = bc21 | bc22\n",
    "display(bc_list2)"
   ]
  },
  {
   "cell_type": "code",
   "execution_count": 37,
   "id": "14d00a82",
   "metadata": {},
   "outputs": [
    {
     "data": {
      "text/latex": [
       "$\\displaystyle v_{2}{\\left(x \\right)} = \\frac{L^{2} P \\left(L - 6 x\\right)}{48 E I}$"
      ],
      "text/plain": [
       "Eq(v_2(x), L**2*P*(L - 6*x)/(48*E*I))"
      ]
     },
     "execution_count": 37,
     "metadata": {},
     "output_type": "execute_result"
    }
   ],
   "source": [
    "diff_eq2_soln = sym.dsolve(eq2, v2(x), ics=bc_list2)\n",
    "diff_eq2_soln.simplify()"
   ]
  },
  {
   "cell_type": "code",
   "execution_count": null,
   "id": "1f034264",
   "metadata": {},
   "outputs": [],
   "source": []
  }
 ],
 "metadata": {
  "kernelspec": {
   "display_name": "Python 3 (ipykernel)",
   "language": "python",
   "name": "python3"
  },
  "language_info": {
   "codemirror_mode": {
    "name": "ipython",
    "version": 3
   },
   "file_extension": ".py",
   "mimetype": "text/x-python",
   "name": "python",
   "nbconvert_exporter": "python",
   "pygments_lexer": "ipython3",
   "version": "3.9.7"
  }
 },
 "nbformat": 4,
 "nbformat_minor": 5
}
