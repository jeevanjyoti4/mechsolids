{
 "cells": [
  {
   "attachments": {
    "image.png": {
     "image/png": "[encoded data removed]"
    }
   },
   "cell_type": "markdown",
   "id": "291a48aa",
   "metadata": {},
   "source": [
    "![image.png](attachment:image.png)"
   ]
  },
  {
   "cell_type": "code",
   "execution_count": 1,
   "id": "be1c1d25",
   "metadata": {},
   "outputs": [],
   "source": [
    "import sympy as sym"
   ]
  },
  {
   "cell_type": "code",
   "execution_count": 2,
   "id": "7814b232",
   "metadata": {},
   "outputs": [],
   "source": [
    "x = sym.symbols('x')\n",
    "\n",
    "w, E, I, L = sym.symbols('w, E, I, L')"
   ]
  },
  {
   "cell_type": "code",
   "execution_count": 3,
   "id": "293f1b8b",
   "metadata": {},
   "outputs": [],
   "source": [
    "v = sym.Function('v')"
   ]
  },
  {
   "cell_type": "code",
   "execution_count": 4,
   "id": "f29a3910",
   "metadata": {},
   "outputs": [
    {
     "data": {
      "text/latex": [
       "$\\displaystyle E I \\frac{d^{4}}{d x^{4}} v{\\left(x \\right)} = - w$"
      ],
      "text/plain": [
       "Eq(E*I*Derivative(v(x), (x, 4)), -w)"
      ]
     },
     "metadata": {},
     "output_type": "display_data"
    }
   ],
   "source": [
    "eq = sym.Eq(E*I*sym.diff(v(x),(x,4)), -w)\n",
    "display(eq)"
   ]
  },
  {
   "cell_type": "code",
   "execution_count": 7,
   "id": "68dba513",
   "metadata": {},
   "outputs": [
    {
     "data": {
      "text/plain": [
       "{v(0): 0,\n",
       " Subs(Derivative(v(x), x), x, 0): 0,\n",
       " Derivative(v(L), (L, 3)): 0,\n",
       " Derivative(v(L), (L, 2)): 0}"
      ]
     },
     "metadata": {},
     "output_type": "display_data"
    }
   ],
   "source": [
    "bc1 = {v(0): 0}\n",
    "\n",
    "bc2 = {sym.diff(v(x),x).subs(x,0): 0}\n",
    "\n",
    "bc3 = {sym.diff(v(x),(x,3)).subs(x,L): 0}\n",
    "\n",
    "bc4 = {sym.diff(v(x),(x,2)).subs(x,L): 0}\n",
    "\n",
    "bc_list = bc1 | bc2 | bc3 | bc4\n",
    "display(bc_list)"
   ]
  },
  {
   "cell_type": "code",
   "execution_count": 8,
   "id": "b026a667",
   "metadata": {},
   "outputs": [
    {
     "data": {
      "text/latex": [
       "$\\displaystyle v{\\left(x \\right)} = \\frac{w x^{2} \\left(- 6 L^{2} + 4 L x - x^{2}\\right)}{24 E I}$"
      ],
      "text/plain": [
       "Eq(v(x), w*x**2*(-6*L**2 + 4*L*x - x**2)/(24*E*I))"
      ]
     },
     "execution_count": 8,
     "metadata": {},
     "output_type": "execute_result"
    }
   ],
   "source": [
    "diff_eq_soln = sym.dsolve(eq, v(x), ics=bc_list)\n",
    "diff_eq_soln.simplify()"
   ]
  },
  {
   "cell_type": "markdown",
   "id": "75bebe99",
   "metadata": {},
   "source": [
    "## Alternative solution:"
   ]
  },
  {
   "cell_type": "code",
   "execution_count": 9,
   "id": "e476b863",
   "metadata": {},
   "outputs": [],
   "source": [
    "M = -w*(L-x)**2/2"
   ]
  },
  {
   "cell_type": "code",
   "execution_count": 10,
   "id": "3e5c15b4",
   "metadata": {},
   "outputs": [
    {
     "data": {
      "text/latex": [
       "$\\displaystyle E I \\frac{d^{2}}{d x^{2}} v{\\left(x \\right)} = - \\frac{w \\left(L - x\\right)^{2}}{2}$"
      ],
      "text/plain": [
       "Eq(E*I*Derivative(v(x), (x, 2)), -w*(L - x)**2/2)"
      ]
     },
     "metadata": {},
     "output_type": "display_data"
    }
   ],
   "source": [
    "eq = sym.Eq(E*I*sym.diff(v(x),(x,2)), M)\n",
    "display(eq)"
   ]
  },
  {
   "cell_type": "code",
   "execution_count": 11,
   "id": "65dee480",
   "metadata": {},
   "outputs": [
    {
     "data": {
      "text/plain": [
       "{v(0): 0, Subs(Derivative(v(x), x), x, 0): 0}"
      ]
     },
     "metadata": {},
     "output_type": "display_data"
    }
   ],
   "source": [
    "bc1 = {v(0): 0}\n",
    "\n",
    "bc2 = {sym.diff(v(x),x).subs(x,0): 0}\n",
    "\n",
    "bc_list = bc1 | bc2\n",
    "display(bc_list)"
   ]
  },
  {
   "cell_type": "code",
   "execution_count": 12,
   "id": "6dfe4b62",
   "metadata": {},
   "outputs": [
    {
     "data": {
      "text/latex": [
       "$\\displaystyle v{\\left(x \\right)} = \\frac{w x^{2} \\left(- 6 L^{2} + 4 L x - x^{2}\\right)}{24 E I}$"
      ],
      "text/plain": [
       "Eq(v(x), w*x**2*(-6*L**2 + 4*L*x - x**2)/(24*E*I))"
      ]
     },
     "execution_count": 12,
     "metadata": {},
     "output_type": "execute_result"
    }
   ],
   "source": [
    "diff_eq_soln = sym.dsolve(eq, v(x), ics=bc_list)\n",
    "diff_eq_soln.simplify()"
   ]
  },
  {
   "cell_type": "code",
   "execution_count": null,
   "id": "d6a6ac26",
   "metadata": {},
   "outputs": [],
   "source": []
  }
 ],
 "metadata": {
  "kernelspec": {
   "display_name": "Python 3 (ipykernel)",
   "language": "python",
   "name": "python3"
  },
  "language_info": {
   "codemirror_mode": {
    "name": "ipython",
    "version": 3
   },
   "file_extension": ".py",
   "mimetype": "text/x-python",
   "name": "python",
   "nbconvert_exporter": "python",
   "pygments_lexer": "ipython3",
   "version": "3.9.7"
  }
 },
 "nbformat": 4,
 "nbformat_minor": 5
}
