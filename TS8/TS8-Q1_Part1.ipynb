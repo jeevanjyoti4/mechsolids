{
 "cells": [
  {
   "attachments": {
    "image.png": {
     "image/png": "[encoded data removed]"
    }
   },
   "cell_type": "markdown",
   "id": "d6a117e0",
   "metadata": {},
   "source": [
    "![image.png](attachment:image.png)"
   ]
  },
  {
   "cell_type": "code",
   "execution_count": 1,
   "id": "3ba5a7e3",
   "metadata": {},
   "outputs": [],
   "source": [
    "import sympy as sym"
   ]
  },
  {
   "cell_type": "code",
   "execution_count": 2,
   "id": "1a55d977",
   "metadata": {},
   "outputs": [],
   "source": [
    "P, E, I, L, x = sym.symbols('P, E, I, L, x')"
   ]
  },
  {
   "cell_type": "code",
   "execution_count": 3,
   "id": "f8824c3d",
   "metadata": {},
   "outputs": [],
   "source": [
    "v1 = sym.Function('v_1')"
   ]
  },
  {
   "cell_type": "code",
   "execution_count": 4,
   "id": "01d5ea57",
   "metadata": {},
   "outputs": [],
   "source": [
    "M1 = P/2*x"
   ]
  },
  {
   "cell_type": "code",
   "execution_count": 5,
   "id": "765d4d7c",
   "metadata": {},
   "outputs": [
    {
     "data": {
      "text/latex": [
       "$\\displaystyle \\frac{d^{2}}{d x^{2}} v_{1}{\\left(x \\right)} = \\frac{P x}{2 E I}$"
      ],
      "text/plain": [
       "Eq(Derivative(v_1(x), (x, 2)), P*x/(2*E*I))"
      ]
     },
     "metadata": {},
     "output_type": "display_data"
    }
   ],
   "source": [
    "eq1 = sym.Eq(sym.diff(v1(x),(x,2)), M1/(E*I))\n",
    "display(eq1)"
   ]
  },
  {
   "cell_type": "code",
   "execution_count": 6,
   "id": "cb5ac0a1",
   "metadata": {},
   "outputs": [],
   "source": [
    "v2 = sym.Function('v_2')"
   ]
  },
  {
   "cell_type": "code",
   "execution_count": 7,
   "id": "001a1b26",
   "metadata": {},
   "outputs": [],
   "source": [
    "M2 = -P*(x-L/2) + P/2*x"
   ]
  },
  {
   "cell_type": "code",
   "execution_count": 8,
   "id": "420b98ef",
   "metadata": {},
   "outputs": [
    {
     "data": {
      "text/latex": [
       "$\\displaystyle \\frac{d^{2}}{d x^{2}} v_{2}{\\left(x \\right)} = \\frac{\\frac{P x}{2} - P \\left(- \\frac{L}{2} + x\\right)}{E I}$"
      ],
      "text/plain": [
       "Eq(Derivative(v_2(x), (x, 2)), (P*x/2 - P*(-L/2 + x))/(E*I))"
      ]
     },
     "metadata": {},
     "output_type": "display_data"
    }
   ],
   "source": [
    "eq2 = sym.Eq(sym.diff(v2(x),(x,2)), M2/(E*I))\n",
    "display(eq2)"
   ]
  },
  {
   "cell_type": "code",
   "execution_count": 9,
   "id": "01c89186",
   "metadata": {},
   "outputs": [
    {
     "data": {
      "text/plain": [
       "[Eq(v_1(x), C1 + C2*x + P*x**3/(12*E*I)),\n",
       " Eq(v_2(x), C3 + C4*x + L*P*x**2/(4*E*I) - P*x**3/(12*E*I))]"
      ]
     },
     "metadata": {},
     "output_type": "display_data"
    }
   ],
   "source": [
    "diff_eq_soln = sym.dsolve([eq1, eq2],[v1(x), v2(x)])\n",
    "display(diff_eq_soln)"
   ]
  },
  {
   "cell_type": "code",
   "execution_count": 10,
   "id": "556da22d",
   "metadata": {},
   "outputs": [
    {
     "data": {
      "text/latex": [
       "$\\displaystyle C_{1} + C_{2} x + \\frac{P x^{3}}{12 E I}$"
      ],
      "text/plain": [
       "C1 + C2*x + P*x**3/(12*E*I)"
      ]
     },
     "metadata": {},
     "output_type": "display_data"
    },
    {
     "data": {
      "text/latex": [
       "$\\displaystyle C_{3} + C_{4} x + \\frac{L P x^{2}}{4 E I} - \\frac{P x^{3}}{12 E I}$"
      ],
      "text/plain": [
       "C3 + C4*x + L*P*x**2/(4*E*I) - P*x**3/(12*E*I)"
      ]
     },
     "metadata": {},
     "output_type": "display_data"
    }
   ],
   "source": [
    "v1_soln = diff_eq_soln[0].rhs\n",
    "v2_soln = diff_eq_soln[1].rhs\n",
    "display(v1_soln, v2_soln)"
   ]
  },
  {
   "cell_type": "code",
   "execution_count": 11,
   "id": "827d351b",
   "metadata": {},
   "outputs": [],
   "source": [
    "C1, C2, C3, C4 = sym.symbols('C1:5')"
   ]
  },
  {
   "cell_type": "code",
   "execution_count": 12,
   "id": "85ef87c7",
   "metadata": {},
   "outputs": [
    {
     "data": {
      "text/latex": [
       "$\\displaystyle C_{1} = 0$"
      ],
      "text/plain": [
       "Eq(C1, 0)"
      ]
     },
     "metadata": {},
     "output_type": "display_data"
    },
    {
     "data": {
      "text/latex": [
       "$\\displaystyle C_{3} + C_{4} L + \\frac{L^{3} P}{6 E I} = 0$"
      ],
      "text/plain": [
       "Eq(C3 + C4*L + L**3*P/(6*E*I), 0)"
      ]
     },
     "metadata": {},
     "output_type": "display_data"
    },
    {
     "data": {
      "text/latex": [
       "$\\displaystyle C_{1} + \\frac{C_{2} L}{2} + \\frac{L^{3} P}{96 E I} = C_{3} + \\frac{C_{4} L}{2} + \\frac{5 L^{3} P}{96 E I}$"
      ],
      "text/plain": [
       "Eq(C1 + C2*L/2 + L**3*P/(96*E*I), C3 + C4*L/2 + 5*L**3*P/(96*E*I))"
      ]
     },
     "metadata": {},
     "output_type": "display_data"
    },
    {
     "data": {
      "text/latex": [
       "$\\displaystyle C_{2} + \\frac{L^{2} P}{16 E I} = C_{4} + \\frac{3 L^{2} P}{16 E I}$"
      ],
      "text/plain": [
       "Eq(C2 + L**2*P/(16*E*I), C4 + 3*L**2*P/(16*E*I))"
      ]
     },
     "metadata": {},
     "output_type": "display_data"
    }
   ],
   "source": [
    "bc1_eq = sym.Eq(v1_soln.subs(x,0),0)\n",
    "display(bc1_eq)\n",
    "\n",
    "bc2_eq = sym.Eq(v2_soln.subs(x,L),0)\n",
    "display(bc2_eq)\n",
    "\n",
    "bc3_eq = sym.Eq(v1_soln.subs(x,L/2), v2_soln.subs(x,L/2))\n",
    "display(bc3_eq)\n",
    "\n",
    "bc4_eq = sym.Eq(sym.diff(v1_soln,x).subs(x,L/2), sym.diff(v2_soln, x).subs(x,L/2))\n",
    "display(bc4_eq)"
   ]
  },
  {
   "cell_type": "code",
   "execution_count": 13,
   "id": "aca17aaf",
   "metadata": {},
   "outputs": [
    {
     "data": {
      "text/plain": [
       "{C1: 0, C2: -L**2*P/(16*E*I), C3: L**3*P/(48*E*I), C4: -3*L**2*P/(16*E*I)}"
      ]
     },
     "execution_count": 13,
     "metadata": {},
     "output_type": "execute_result"
    }
   ],
   "source": [
    "constants = sym.solve([bc1_eq, bc2_eq, bc3_eq, bc4_eq],[C1, C2, C3, C4])\n",
    "constants"
   ]
  },
  {
   "cell_type": "code",
   "execution_count": 14,
   "id": "1c8954f5",
   "metadata": {},
   "outputs": [
    {
     "data": {
      "text/latex": [
       "$\\displaystyle \\frac{P x \\left(- 3 L^{2} + 4 x^{2}\\right)}{48 E I}$"
      ],
      "text/plain": [
       "P*x*(-3*L**2 + 4*x**2)/(48*E*I)"
      ]
     },
     "metadata": {},
     "output_type": "display_data"
    }
   ],
   "source": [
    "v1_soln_final = v1_soln.subs(constants)\n",
    "display(v1_soln_final.simplify())"
   ]
  }
 ],
 "metadata": {
  "kernelspec": {
   "display_name": "Python 3 (ipykernel)",
   "language": "python",
   "name": "python3"
  },
  "language_info": {
   "codemirror_mode": {
    "name": "ipython",
    "version": 3
   },
   "file_extension": ".py",
   "mimetype": "text/x-python",
   "name": "python",
   "nbconvert_exporter": "python",
   "pygments_lexer": "ipython3",
   "version": "3.9.7"
  }
 },
 "nbformat": 4,
 "nbformat_minor": 5
}
